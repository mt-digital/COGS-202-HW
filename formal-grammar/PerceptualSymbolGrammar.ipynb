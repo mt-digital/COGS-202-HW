{
 "cells": [
  {
   "cell_type": "markdown",
   "metadata": {},
   "source": [
    "## Formal Grammar Example: Barsalou Perceptual Symbol Grammar\n",
    "\n",
    "To demonstrate the formal grammar and language framework I developed, I created a formal grammar that implements a weird version of Barsalou's Percetpual Symbol Systems. Each sentence is a \"simulation\", with each simulation having exactly one \"simulator\", which in turn could have many categories and instances that make it up. Not that that's exactly what he was saying, but it's a fun attempt to formalize his system from his 1999 BBS paper."
   ]
  },
  {
   "cell_type": "code",
   "execution_count": 66,
   "metadata": {
    "collapsed": false
   },
   "outputs": [
    {
     "data": {
      "text/latex": [
       "\n",
       "\\begin{equation}\n",
       "\\begin{array}{ll}\n",
       "    ( & \\\\\n",
       "       & S = \\{\\textrm{ simulation }\\}, \\\\\n",
       "       & N = \\{ \\textrm{category}, \\textrm{simulation}, \\textrm{instance}, \\textrm{simulator} \\}, \\\\\n",
       "       & \\Sigma = \\{ \\textrm{queen bed with yellow sheets}, \\textrm{2016 subaru crosstrack}, \\textrm{car}, \\textrm{seeing blue}, \\textrm{cheatgrass}, \\textrm{2004 pontiac grand am}, \\textrm{flying}, \\textrm{seeing green}, \\textrm{bed}, \\textrm{Boeing 747}, \\textrm{driving}, \\textrm{seeing red}, \\textrm{grass}, \\textrm{2010 chevy silverado}, \\textrm{sky}, \\textrm{cardinal}, \\textrm{bird}, \\textrm{airplane}, \\textrm{kentucky bluegrass} \\}, \\\\\n",
       "       &P = \\{ \\\\\n",
       "       & \\begin{array}{ll}\n",
       "            & simulation\\rightarrow\\textrm{simulator}~|~\\textrm{category}~|~\\textrm{instance} \\\\\n",
       "& simulator\\rightarrow\\textrm{driving}~|~\\textrm{flying}~|~\\textrm{seeing red}~|~\\textrm{seeing blue}~|~\\textrm{seeing green} \\\\\n",
       "& category\\rightarrow\\textrm{car}~|~\\textrm{airplane}~|~\\textrm{bird}~|~\\textrm{grass}~|~\\textrm{bed} \\\\\n",
       "& instance\\rightarrow\\textrm{2004 pontiac grand am}~|~\\textrm{2016 subaru crosstrack}~|~\\textrm{2010 chevy silverado}~|~\\textrm{Boeing 747}~|~\\textrm{queen bed with yellow sheets}~|~\\textrm{cardinal}~|~\\textrm{sky}~|~\\textrm{cheatgrass}~|~\\textrm{kentucky bluegrass} \\\\\n",
       "       \\end{array} \\\\\n",
       "     & \\} \\\\\n",
       "\n",
       "    ) &\n",
       "\\end{array}\n",
       "\\end{equation}\n"
      ],
      "text/plain": [
       "<IPython.core.display.Latex object>"
      ]
     },
     "metadata": {},
     "output_type": "display_data"
    }
   ],
   "source": [
    "from IPython.display import display, Latex\n",
    "\n",
    "from grammar import Grammar, ProductionRule\n",
    "\n",
    "# build a hierarchy of production rules\n",
    "production_rules = [\n",
    "    ProductionRule('simulation', ['simulator', 'category', 'instance'], n_outputs='all'),\n",
    "        ProductionRule('simulator', ['driving', 'flying', 'seeing red', 'seeing blue', 'seeing green'], n_outputs='one'),\n",
    "        ProductionRule('category', ['car', 'airplane', 'bird', 'grass', 'bed'], n_outputs='many'),\n",
    "        ProductionRule('instance', ['2004 pontiac grand am', '2016 subaru crosstrack', '2010 chevy silverado', \n",
    "                                    'Boeing 747', 'queen bed with yellow sheets', 'cardinal', 'sky',\n",
    "                                    'cheatgrass', 'kentucky bluegrass'], n_outputs='many')\n",
    "]\n",
    "\n",
    "# instantiate the grammar based on the rules\n",
    "perceptual_symbol_grammar = Grammar(production_rules)\n",
    "# use the print_latex() method of the Grammar class to print the formal grammar\n",
    "display(Latex(perceptual_symbol_grammar.print_latex()))"
   ]
  },
  {
   "cell_type": "code",
   "execution_count": 67,
   "metadata": {
    "collapsed": false
   },
   "outputs": [],
   "source": [
    "# now let's create a language that will produce sentences based on the grammar\n",
    "from grammar import Language\n",
    "\n",
    "l = Language(perceptual_symbol_grammar)\n",
    "\n",
    "prods = l.productions()"
   ]
  },
  {
   "cell_type": "code",
   "execution_count": 68,
   "metadata": {
    "collapsed": false
   },
   "outputs": [
    {
     "name": "stdout",
     "output_type": "stream",
     "text": [
      "seeing green bird car airplane grass 2010 chevy silverado cheatgrass sky Boeing 747\n",
      "\n",
      "flying airplane 2004 pontiac grand am Boeing 747 2010 chevy silverado queen bed with yellow sheets kentucky bluegrass cheatgrass sky 2016 subaru crosstrack\n",
      "\n",
      "seeing green grass airplane bird car bed sky cardinal 2016 subaru crosstrack kentucky bluegrass cheatgrass 2004 pontiac grand am Boeing 747 2010 chevy silverado queen bed with yellow sheets\n",
      "\n",
      "driving car bird bed airplane grass 2010 chevy silverado Boeing 747 2016 subaru crosstrack\n",
      "\n",
      "seeing red bird car kentucky bluegrass 2010 chevy silverado Boeing 747 cardinal cheatgrass sky 2016 subaru crosstrack\n",
      "\n",
      "seeing blue airplane car bed bird queen bed with yellow sheets 2016 subaru crosstrack Boeing 747\n",
      "\n",
      "seeing red bird airplane 2010 chevy silverado\n",
      "\n",
      "flying car 2010 chevy silverado queen bed with yellow sheets kentucky bluegrass cheatgrass cardinal 2004 pontiac grand am sky 2016 subaru crosstrack Boeing 747\n",
      "\n",
      "driving bird car queen bed with yellow sheets Boeing 747 sky 2004 pontiac grand am 2016 subaru crosstrack cardinal 2010 chevy silverado\n",
      "\n",
      "seeing blue airplane grass Boeing 747 2010 chevy silverado queen bed with yellow sheets 2016 subaru crosstrack\n",
      "\n"
     ]
    }
   ],
   "source": [
    "# You can run this as many times as you like and get a new production\n",
    "for i in range(10):\n",
    "    p = next(prods)\n",
    "    print(next(prods) + '\\n')"
   ]
  }
 ],
 "metadata": {
  "kernelspec": {
   "display_name": "Python 3",
   "language": "python",
   "name": "python3"
  },
  "language_info": {
   "codemirror_mode": {
    "name": "ipython",
    "version": 3
   },
   "file_extension": ".py",
   "mimetype": "text/x-python",
   "name": "python",
   "nbconvert_exporter": "python",
   "pygments_lexer": "ipython3",
   "version": "3.5.2"
  }
 },
 "nbformat": 4,
 "nbformat_minor": 1
}
